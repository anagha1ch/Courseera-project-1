{
  "metadata": {
    "language_info": {
      "codemirror_mode": {
        "name": "python",
        "version": 3
      },
      "file_extension": ".py",
      "mimetype": "text/x-python",
      "name": "python",
      "nbconvert_exporter": "python",
      "pygments_lexer": "ipython3",
      "version": "3.8"
    },
    "kernelspec": {
      "name": "python",
      "display_name": "Python (Pyodide)",
      "language": "python"
    }
  },
  "nbformat_minor": 4,
  "nbformat": 4,
  "cells": [
    {
      "cell_type": "markdown",
      "source": "# My Jupyter Notebook On Watson Studio",
      "metadata": {}
    },
    {
      "cell_type": "markdown",
      "source": "**Anagha Chougaonkar**\nAssistant Professor\n",
      "metadata": {}
    },
    {
      "cell_type": "markdown",
      "source": "*I am interested in Data Science because it will be helpful in my future project work*",
      "metadata": {}
    },
    {
      "cell_type": "markdown",
      "source": "### My code will add two data",
      "metadata": {}
    },
    {
      "cell_type": "code",
      "source": "num1 = 2\nnum2 = 6\n\n# Add two numbers\nsum = num1 + num2\n\n# Display the sum\nprint('Sum is equal to',sum)",
      "metadata": {
        "trusted": true
      },
      "execution_count": 3,
      "outputs": [
        {
          "name": "stdout",
          "text": "Sum is equal to 8\n",
          "output_type": "stream"
        }
      ]
    },
    {
      "cell_type": "markdown",
      "source": "___ \n1. First Data \n2. Second Data\n\n~~second data.~~",
      "metadata": {}
    },
    {
      "cell_type": "code",
      "source": "",
      "metadata": {},
      "execution_count": null,
      "outputs": []
    }
  ]
}